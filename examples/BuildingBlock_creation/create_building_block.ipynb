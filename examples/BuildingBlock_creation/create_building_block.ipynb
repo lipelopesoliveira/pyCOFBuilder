{
 "cells": [
  {
   "cell_type": "code",
   "execution_count": 2,
   "metadata": {},
   "outputs": [],
   "source": [
    "import os\n",
    "import sys\n",
    "import json\n",
    "\n",
    "PYCOFBUILDER_PATH = \"/home/felipe/Github/pyCOFBuilder/\"\n",
    "\n",
    "sys.path.append(os.path.join(PYCOFBUILDER_PATH, 'src'))\n",
    "\n",
    "import pycofbuilder as pcb\n",
    "from pycofbuilder.cjson import ChemJSON\n"
   ]
  },
  {
   "attachments": {
    "57f6b452-7c7f-469b-99b1-58626b22e3ef.png": {
     "image/png": "[encoded data removed]"
    }
   },
   "cell_type": "markdown",
   "metadata": {},
   "source": [
    "# Creation of new building blocks\n",
    "\n",
    "All the files required to generate a building block (organic core, connection group, and functional group) can be created in the same way:\n",
    "\n",
    "- First you need to create the structure file using you preferred software (e.g. Avogadro, GaussView, etc.)\n",
    "- Then, you need to convert it to a ChemicalJSON format (`.csjon`). Although this can be done it directly with the Avogadro software, we recommend to use the `ChemJSON` module avalilable within pyCOFBuilder. This module allows conversion from several molecular formats (*e.g.* `.xyz`, `.gjf`, etc) to `.cjson` in manner that is fully compatible with the pyCOFBuilder library.\n",
    "- You can add some aditional properties such as the smile code, the 4-letter code, and the xsmiles label for the structure that is being created.  \n",
    "- Save the `.cjson` file in the proper folder on the `pyCOFbuilder/src/pycofbuilder/data` folder.\n",
    "\n",
    "#### **Don't forget to add the special points (Q, X, or R<sub>y</sub>) in the structure of the molecule you want to add as in the image below!**\n",
    "\n",
    "![57f6b452-7c7f-469b-99b1-58626b22e3ef.png](attachment:57f6b452-7c7f-469b-99b1-58626b22e3ef.png)\n",
    "\n",
    "For organic cores by default the distance `Q-C` should be set to 0.5 angstroms and the distance `Ry-C` should be set to 1.0 angstrom.\n",
    "\n",
    "For the connection groups and functional groups by default the distance from the connection points, `X` and `R` respectivelly, should be set in a way to get the final espected distance between the connection points of the building block and the linkers.\n",
    "\n",
    "Below there is an example of how to create a new building block using the `ChemicalJSON` module."
   ]
  },
  {
   "cell_type": "markdown",
   "metadata": {},
   "source": [
    "To help the process of creating a `xsmile` string and `xsmile label` for your new building block, you can use the `smiles_to_xsmiles` function available on tools."
   ]
  },
  {
   "cell_type": "code",
   "execution_count": 3,
   "metadata": {},
   "outputs": [
    {
     "name": "stdout",
     "output_type": "stream",
     "text": [
      "smiles: [Q]C1=C([Q])C([R1])=C([Q])C([Q])=C1[R1]\n",
      "xsmiles: [*]C1=C([*])C([*])=C([*])C([*])=C1[*]\n",
      "xsmiles_label: |$Q;;;Q;;R1;;Q;;Q;;R1$|\n",
      "composition: R12C6Q4\n"
     ]
    }
   ],
   "source": [
    "from pycofbuilder.tools import smiles_to_xsmiles\n",
    "\n",
    "smiles_string = '[Q]C1=C([Q])C([R1])=C([Q])C([Q])=C1[R1]'\n",
    "\n",
    "xsmiles, xsmiles_label, composition = smiles_to_xsmiles(smiles_string)\n",
    "\n",
    "print('smiles:', smiles_string)\n",
    "print('xsmiles:', xsmiles)\n",
    "print('xsmiles_label:', xsmiles_label)\n",
    "print('composition:', composition)"
   ]
  },
  {
   "cell_type": "code",
   "execution_count": 9,
   "metadata": {},
   "outputs": [],
   "source": [
    "# Create an empty ChemJSON object\n",
    "new_BB = ChemJSON()\n",
    "\n",
    "path = os.path.join(PYCOFBUILDER_PATH, 'examples', 'BuildingBlock_creation')\n",
    "file_name = 'BENZ'\n",
    "# Read the file conatining the molecular structure\n",
    "new_BB.from_gjf(path, file_name + '.gjf')\n",
    "\n",
    "# Define the name of the molecule. This is just a label and it is not used in the creation of the building block\n",
    "new_BB.name = 'benzene'\n",
    "\n",
    "# Define the properties of the building block. Although this informations are not required to create the building block, it is \n",
    "# recomended to add them in order to take full advantage of the pyCOFBuilder capabilities\n",
    "new_BB.properties = {\n",
    "    \"smiles\": smiles_string,\n",
    "    \"code\": file_name,\n",
    "    \"xsmiles\": xsmiles,\n",
    "    \"xsmiles_label\": xsmiles_label,\n",
    "}\n",
    "\n",
    "# Save the ChemJSON object as a cjson file\n",
    "new_BB.write_cjson(path, file_name + '.cjson')"
   ]
  },
  {
   "cell_type": "markdown",
   "metadata": {},
   "source": [
    "You can use the `Draw` module from rdkit to visualize the structure of the building block. For that you have to install `rdkit` on your conda environment. To do that just open a new terminal with the pycofbuilder environment activated and type\n",
    "\n",
    "```bash\n",
    "conda install -f conda-forge rdkit\n",
    "```"
   ]
  },
  {
   "cell_type": "code",
   "execution_count": null,
   "metadata": {},
   "outputs": [],
   "source": [
    "from rdkit import Chem\n",
    "from rdkit.Chem import Draw\n",
    "\n",
    "scaffold = Chem.MolFromSmiles(new_BB.properties['xsmiles'] + ' ' + new_BB.properties['xsmiles_label'])\n",
    "\n",
    "Draw.MolToImage(scaffold, legend=new_BB.name, size=(400, 200))"
   ]
  }
 ],
 "metadata": {
  "kernelspec": {
   "display_name": "rdkit",
   "language": "python",
   "name": "python3"
  },
  "language_info": {
   "codemirror_mode": {
    "name": "ipython",
    "version": 3
   },
   "file_extension": ".py",
   "mimetype": "text/x-python",
   "name": "python",
   "nbconvert_exporter": "python",
   "pygments_lexer": "ipython3",
   "version": "3.11.5"
  },
  "orig_nbformat": 4
 },
 "nbformat": 4,
 "nbformat_minor": 2
}
