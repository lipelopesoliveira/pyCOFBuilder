{
  "nbformat": 4,
  "nbformat_minor": 0,
  "metadata": {
    "colab": {
      "provenance": [],
      "include_colab_link": true
    },
    "kernelspec": {
      "name": "python3",
      "display_name": "Python 3"
    },
    "language_info": {
      "name": "python"
    }
  },
  "cells": [
    {
      "cell_type": "markdown",
      "metadata": {
        "id": "view-in-github",
        "colab_type": "text"
      },
      "source": [
        "<a href=\"https://colab.research.google.com/github/lipelopesoliveira/pyCOFBuilder/blob/master/pyCOFBuilder_example.ipynb\" target=\"_parent\"><img src=\"https://colab.research.google.com/assets/colab-badge.svg\" alt=\"Open In Colab\"/></a>"
      ]
    },
    {
      "cell_type": "code",
      "execution_count": 8,
      "metadata": {
        "colab": {
          "base_uri": "https://localhost:8080/"
        },
        "id": "yHvLB7pRWR6e",
        "outputId": "202ffa29-4e03-4232-fe29-85a3ff867e8f",
        "collapsed": true
      },
      "outputs": [
        {
          "output_type": "stream",
          "name": "stdout",
          "text": [
            "Requirement already satisfied: simplejson in /usr/local/lib/python3.11/dist-packages (3.20.1)\n",
            "Requirement already satisfied: pymatgen in /usr/local/lib/python3.11/dist-packages (2025.4.20)\n",
            "Requirement already satisfied: gemmi in /usr/local/lib/python3.11/dist-packages (0.7.1)\n",
            "Requirement already satisfied: ase in /usr/local/lib/python3.11/dist-packages (3.25.0)\n",
            "Requirement already satisfied: pycofbuilder in /usr/local/lib/python3.11/dist-packages (0.0.9.2)\n",
            "Requirement already satisfied: joblib>=1 in /usr/local/lib/python3.11/dist-packages (from pymatgen) (1.4.2)\n",
            "Requirement already satisfied: matplotlib>=3.8 in /usr/local/lib/python3.11/dist-packages (from pymatgen) (3.10.0)\n",
            "Requirement already satisfied: monty>=2025.1.9 in /usr/local/lib/python3.11/dist-packages (from pymatgen) (2025.3.3)\n",
            "Requirement already satisfied: networkx>=2.7 in /usr/local/lib/python3.11/dist-packages (from pymatgen) (3.4.2)\n",
            "Requirement already satisfied: palettable>=3.3.3 in /usr/local/lib/python3.11/dist-packages (from pymatgen) (3.3.3)\n",
            "Requirement already satisfied: pandas>=2 in /usr/local/lib/python3.11/dist-packages (from pymatgen) (2.2.2)\n",
            "Requirement already satisfied: plotly>=5.0.0 in /usr/local/lib/python3.11/dist-packages (from pymatgen) (5.24.1)\n",
            "Requirement already satisfied: bibtexparser>=1.4.0 in /usr/local/lib/python3.11/dist-packages (from pymatgen) (1.4.3)\n",
            "Requirement already satisfied: requests>=2.32 in /usr/local/lib/python3.11/dist-packages (from pymatgen) (2.32.3)\n",
            "Requirement already satisfied: ruamel.yaml>=0.17.0 in /usr/local/lib/python3.11/dist-packages (from pymatgen) (0.18.10)\n",
            "Requirement already satisfied: scipy>=1.13.0 in /usr/local/lib/python3.11/dist-packages (from pymatgen) (1.14.1)\n",
            "Requirement already satisfied: spglib>=2.5 in /usr/local/lib/python3.11/dist-packages (from pymatgen) (2.6.0)\n",
            "Requirement already satisfied: sympy>=1.3 in /usr/local/lib/python3.11/dist-packages (from pymatgen) (1.13.1)\n",
            "Requirement already satisfied: tabulate>=0.9 in /usr/local/lib/python3.11/dist-packages (from pymatgen) (0.9.0)\n",
            "Requirement already satisfied: tqdm>=4.60 in /usr/local/lib/python3.11/dist-packages (from pymatgen) (4.67.1)\n",
            "Requirement already satisfied: uncertainties>=3.1.4 in /usr/local/lib/python3.11/dist-packages (from pymatgen) (3.2.3)\n",
            "Requirement already satisfied: numpy<3,>=1.25.0 in /usr/local/lib/python3.11/dist-packages (from pymatgen) (2.0.2)\n",
            "Requirement already satisfied: jupyter in /usr/local/lib/python3.11/dist-packages (from pycofbuilder) (1.1.1)\n",
            "Requirement already satisfied: jupyterlab in /usr/local/lib/python3.11/dist-packages (from pycofbuilder) (4.4.0)\n",
            "Requirement already satisfied: pyparsing>=2.0.3 in /usr/local/lib/python3.11/dist-packages (from bibtexparser>=1.4.0->pymatgen) (3.2.3)\n",
            "Requirement already satisfied: contourpy>=1.0.1 in /usr/local/lib/python3.11/dist-packages (from matplotlib>=3.8->pymatgen) (1.3.2)\n",
            "Requirement already satisfied: cycler>=0.10 in /usr/local/lib/python3.11/dist-packages (from matplotlib>=3.8->pymatgen) (0.12.1)\n",
            "Requirement already satisfied: fonttools>=4.22.0 in /usr/local/lib/python3.11/dist-packages (from matplotlib>=3.8->pymatgen) (4.57.0)\n",
            "Requirement already satisfied: kiwisolver>=1.3.1 in /usr/local/lib/python3.11/dist-packages (from matplotlib>=3.8->pymatgen) (1.4.8)\n",
            "Requirement already satisfied: packaging>=20.0 in /usr/local/lib/python3.11/dist-packages (from matplotlib>=3.8->pymatgen) (24.2)\n",
            "Requirement already satisfied: pillow>=8 in /usr/local/lib/python3.11/dist-packages (from matplotlib>=3.8->pymatgen) (11.1.0)\n",
            "Requirement already satisfied: python-dateutil>=2.7 in /usr/local/lib/python3.11/dist-packages (from matplotlib>=3.8->pymatgen) (2.8.2)\n",
            "Requirement already satisfied: pytz>=2020.1 in /usr/local/lib/python3.11/dist-packages (from pandas>=2->pymatgen) (2025.2)\n",
            "Requirement already satisfied: tzdata>=2022.7 in /usr/local/lib/python3.11/dist-packages (from pandas>=2->pymatgen) (2025.2)\n",
            "Requirement already satisfied: tenacity>=6.2.0 in /usr/local/lib/python3.11/dist-packages (from plotly>=5.0.0->pymatgen) (9.1.2)\n",
            "Requirement already satisfied: charset-normalizer<4,>=2 in /usr/local/lib/python3.11/dist-packages (from requests>=2.32->pymatgen) (3.4.1)\n",
            "Requirement already satisfied: idna<4,>=2.5 in /usr/local/lib/python3.11/dist-packages (from requests>=2.32->pymatgen) (3.10)\n",
            "Requirement already satisfied: urllib3<3,>=1.21.1 in /usr/local/lib/python3.11/dist-packages (from requests>=2.32->pymatgen) (2.3.0)\n",
            "Requirement already satisfied: certifi>=2017.4.17 in /usr/local/lib/python3.11/dist-packages (from requests>=2.32->pymatgen) (2025.1.31)\n",
            "Requirement already satisfied: ruamel.yaml.clib>=0.2.7 in /usr/local/lib/python3.11/dist-packages (from ruamel.yaml>=0.17.0->pymatgen) (0.2.12)\n",
            "Requirement already satisfied: typing-extensions>=4.9.0 in /usr/local/lib/python3.11/dist-packages (from spglib>=2.5->pymatgen) (4.13.2)\n",
            "Requirement already satisfied: mpmath<1.4,>=1.1.0 in /usr/local/lib/python3.11/dist-packages (from sympy>=1.3->pymatgen) (1.3.0)\n",
            "Requirement already satisfied: notebook in /usr/local/lib/python3.11/dist-packages (from jupyter->pycofbuilder) (6.5.7)\n",
            "Requirement already satisfied: jupyter-console in /usr/local/lib/python3.11/dist-packages (from jupyter->pycofbuilder) (6.1.0)\n",
            "Requirement already satisfied: nbconvert in /usr/local/lib/python3.11/dist-packages (from jupyter->pycofbuilder) (7.16.6)\n",
            "Requirement already satisfied: ipykernel in /usr/local/lib/python3.11/dist-packages (from jupyter->pycofbuilder) (6.17.1)\n",
            "Requirement already satisfied: ipywidgets in /usr/local/lib/python3.11/dist-packages (from jupyter->pycofbuilder) (7.7.1)\n",
            "Requirement already satisfied: async-lru>=1.0.0 in /usr/local/lib/python3.11/dist-packages (from jupyterlab->pycofbuilder) (2.0.5)\n",
            "Requirement already satisfied: httpx>=0.25.0 in /usr/local/lib/python3.11/dist-packages (from jupyterlab->pycofbuilder) (0.28.1)\n",
            "Requirement already satisfied: jinja2>=3.0.3 in /usr/local/lib/python3.11/dist-packages (from jupyterlab->pycofbuilder) (3.1.6)\n",
            "Requirement already satisfied: jupyter-core in /usr/local/lib/python3.11/dist-packages (from jupyterlab->pycofbuilder) (5.7.2)\n",
            "Requirement already satisfied: jupyter-lsp>=2.0.0 in /usr/local/lib/python3.11/dist-packages (from jupyterlab->pycofbuilder) (2.2.5)\n",
            "Requirement already satisfied: jupyter-server<3,>=2.4.0 in /usr/local/lib/python3.11/dist-packages (from jupyterlab->pycofbuilder) (2.15.0)\n",
            "Requirement already satisfied: jupyterlab-server<3,>=2.27.1 in /usr/local/lib/python3.11/dist-packages (from jupyterlab->pycofbuilder) (2.27.3)\n",
            "Requirement already satisfied: notebook-shim>=0.2 in /usr/local/lib/python3.11/dist-packages (from jupyterlab->pycofbuilder) (0.2.4)\n",
            "Requirement already satisfied: setuptools>=41.1.0 in /usr/local/lib/python3.11/dist-packages (from jupyterlab->pycofbuilder) (75.2.0)\n",
            "Requirement already satisfied: tornado>=6.2.0 in /usr/local/lib/python3.11/dist-packages (from jupyterlab->pycofbuilder) (6.4.2)\n",
            "Requirement already satisfied: traitlets in /usr/local/lib/python3.11/dist-packages (from jupyterlab->pycofbuilder) (5.7.1)\n",
            "Requirement already satisfied: anyio in /usr/local/lib/python3.11/dist-packages (from httpx>=0.25.0->jupyterlab->pycofbuilder) (4.9.0)\n",
            "Requirement already satisfied: httpcore==1.* in /usr/local/lib/python3.11/dist-packages (from httpx>=0.25.0->jupyterlab->pycofbuilder) (1.0.8)\n",
            "Requirement already satisfied: h11<0.15,>=0.13 in /usr/local/lib/python3.11/dist-packages (from httpcore==1.*->httpx>=0.25.0->jupyterlab->pycofbuilder) (0.14.0)\n",
            "Requirement already satisfied: debugpy>=1.0 in /usr/local/lib/python3.11/dist-packages (from ipykernel->jupyter->pycofbuilder) (1.8.0)\n",
            "Requirement already satisfied: ipython>=7.23.1 in /usr/local/lib/python3.11/dist-packages (from ipykernel->jupyter->pycofbuilder) (7.34.0)\n",
            "Requirement already satisfied: jupyter-client>=6.1.12 in /usr/local/lib/python3.11/dist-packages (from ipykernel->jupyter->pycofbuilder) (7.4.9)\n",
            "Requirement already satisfied: matplotlib-inline>=0.1 in /usr/local/lib/python3.11/dist-packages (from ipykernel->jupyter->pycofbuilder) (0.1.7)\n",
            "Requirement already satisfied: nest-asyncio in /usr/local/lib/python3.11/dist-packages (from ipykernel->jupyter->pycofbuilder) (1.6.0)\n",
            "Requirement already satisfied: psutil in /usr/local/lib/python3.11/dist-packages (from ipykernel->jupyter->pycofbuilder) (5.9.5)\n",
            "Requirement already satisfied: pyzmq>=17 in /usr/local/lib/python3.11/dist-packages (from ipykernel->jupyter->pycofbuilder) (24.0.1)\n",
            "Requirement already satisfied: MarkupSafe>=2.0 in /usr/local/lib/python3.11/dist-packages (from jinja2>=3.0.3->jupyterlab->pycofbuilder) (3.0.2)\n",
            "Requirement already satisfied: argon2-cffi>=21.1 in /usr/local/lib/python3.11/dist-packages (from jupyter-server<3,>=2.4.0->jupyterlab->pycofbuilder) (23.1.0)\n",
            "Requirement already satisfied: jupyter-events>=0.11.0 in /usr/local/lib/python3.11/dist-packages (from jupyter-server<3,>=2.4.0->jupyterlab->pycofbuilder) (0.12.0)\n",
            "Requirement already satisfied: jupyter-server-terminals>=0.4.4 in /usr/local/lib/python3.11/dist-packages (from jupyter-server<3,>=2.4.0->jupyterlab->pycofbuilder) (0.5.3)\n",
            "Requirement already satisfied: nbformat>=5.3.0 in /usr/local/lib/python3.11/dist-packages (from jupyter-server<3,>=2.4.0->jupyterlab->pycofbuilder) (5.10.4)\n",
            "Requirement already satisfied: overrides>=5.0 in /usr/local/lib/python3.11/dist-packages (from jupyter-server<3,>=2.4.0->jupyterlab->pycofbuilder) (7.7.0)\n",
            "Requirement already satisfied: prometheus-client>=0.9 in /usr/local/lib/python3.11/dist-packages (from jupyter-server<3,>=2.4.0->jupyterlab->pycofbuilder) (0.21.1)\n",
            "Requirement already satisfied: send2trash>=1.8.2 in /usr/local/lib/python3.11/dist-packages (from jupyter-server<3,>=2.4.0->jupyterlab->pycofbuilder) (1.8.3)\n",
            "Requirement already satisfied: terminado>=0.8.3 in /usr/local/lib/python3.11/dist-packages (from jupyter-server<3,>=2.4.0->jupyterlab->pycofbuilder) (0.18.1)\n",
            "Requirement already satisfied: websocket-client>=1.7 in /usr/local/lib/python3.11/dist-packages (from jupyter-server<3,>=2.4.0->jupyterlab->pycofbuilder) (1.8.0)\n",
            "Requirement already satisfied: platformdirs>=2.5 in /usr/local/lib/python3.11/dist-packages (from jupyter-core->jupyterlab->pycofbuilder) (4.3.7)\n",
            "Requirement already satisfied: babel>=2.10 in /usr/local/lib/python3.11/dist-packages (from jupyterlab-server<3,>=2.27.1->jupyterlab->pycofbuilder) (2.17.0)\n",
            "Requirement already satisfied: json5>=0.9.0 in /usr/local/lib/python3.11/dist-packages (from jupyterlab-server<3,>=2.27.1->jupyterlab->pycofbuilder) (0.12.0)\n",
            "Requirement already satisfied: jsonschema>=4.18.0 in /usr/local/lib/python3.11/dist-packages (from jupyterlab-server<3,>=2.27.1->jupyterlab->pycofbuilder) (4.23.0)\n",
            "Requirement already satisfied: beautifulsoup4 in /usr/local/lib/python3.11/dist-packages (from nbconvert->jupyter->pycofbuilder) (4.13.4)\n",
            "Requirement already satisfied: bleach!=5.0.0 in /usr/local/lib/python3.11/dist-packages (from bleach[css]!=5.0.0->nbconvert->jupyter->pycofbuilder) (6.2.0)\n",
            "Requirement already satisfied: defusedxml in /usr/local/lib/python3.11/dist-packages (from nbconvert->jupyter->pycofbuilder) (0.7.1)\n",
            "Requirement already satisfied: jupyterlab-pygments in /usr/local/lib/python3.11/dist-packages (from nbconvert->jupyter->pycofbuilder) (0.3.0)\n",
            "Requirement already satisfied: mistune<4,>=2.0.3 in /usr/local/lib/python3.11/dist-packages (from nbconvert->jupyter->pycofbuilder) (3.1.3)\n",
            "Requirement already satisfied: nbclient>=0.5.0 in /usr/local/lib/python3.11/dist-packages (from nbconvert->jupyter->pycofbuilder) (0.10.2)\n",
            "Requirement already satisfied: pandocfilters>=1.4.1 in /usr/local/lib/python3.11/dist-packages (from nbconvert->jupyter->pycofbuilder) (1.5.1)\n",
            "Requirement already satisfied: pygments>=2.4.1 in /usr/local/lib/python3.11/dist-packages (from nbconvert->jupyter->pycofbuilder) (2.18.0)\n",
            "Requirement already satisfied: six>=1.5 in /usr/local/lib/python3.11/dist-packages (from python-dateutil>=2.7->matplotlib>=3.8->pymatgen) (1.17.0)\n",
            "Requirement already satisfied: ipython-genutils~=0.2.0 in /usr/local/lib/python3.11/dist-packages (from ipywidgets->jupyter->pycofbuilder) (0.2.0)\n",
            "Requirement already satisfied: widgetsnbextension~=3.6.0 in /usr/local/lib/python3.11/dist-packages (from ipywidgets->jupyter->pycofbuilder) (3.6.10)\n",
            "Requirement already satisfied: jupyterlab-widgets>=1.0.0 in /usr/local/lib/python3.11/dist-packages (from ipywidgets->jupyter->pycofbuilder) (3.0.14)\n",
            "Requirement already satisfied: prompt-toolkit!=3.0.0,!=3.0.1,<3.1.0,>=2.0.0 in /usr/local/lib/python3.11/dist-packages (from jupyter-console->jupyter->pycofbuilder) (3.0.51)\n",
            "Requirement already satisfied: nbclassic>=0.4.7 in /usr/local/lib/python3.11/dist-packages (from notebook->jupyter->pycofbuilder) (1.2.0)\n",
            "Requirement already satisfied: sniffio>=1.1 in /usr/local/lib/python3.11/dist-packages (from anyio->httpx>=0.25.0->jupyterlab->pycofbuilder) (1.3.1)\n",
            "Requirement already satisfied: argon2-cffi-bindings in /usr/local/lib/python3.11/dist-packages (from argon2-cffi>=21.1->jupyter-server<3,>=2.4.0->jupyterlab->pycofbuilder) (21.2.0)\n",
            "Requirement already satisfied: webencodings in /usr/local/lib/python3.11/dist-packages (from bleach!=5.0.0->bleach[css]!=5.0.0->nbconvert->jupyter->pycofbuilder) (0.5.1)\n",
            "Requirement already satisfied: tinycss2<1.5,>=1.1.0 in /usr/local/lib/python3.11/dist-packages (from bleach[css]!=5.0.0->nbconvert->jupyter->pycofbuilder) (1.4.0)\n",
            "Requirement already satisfied: jedi>=0.16 in /usr/local/lib/python3.11/dist-packages (from ipython>=7.23.1->ipykernel->jupyter->pycofbuilder) (0.19.2)\n",
            "Requirement already satisfied: decorator in /usr/local/lib/python3.11/dist-packages (from ipython>=7.23.1->ipykernel->jupyter->pycofbuilder) (4.4.2)\n",
            "Requirement already satisfied: pickleshare in /usr/local/lib/python3.11/dist-packages (from ipython>=7.23.1->ipykernel->jupyter->pycofbuilder) (0.7.5)\n",
            "Requirement already satisfied: backcall in /usr/local/lib/python3.11/dist-packages (from ipython>=7.23.1->ipykernel->jupyter->pycofbuilder) (0.2.0)\n",
            "Requirement already satisfied: pexpect>4.3 in /usr/local/lib/python3.11/dist-packages (from ipython>=7.23.1->ipykernel->jupyter->pycofbuilder) (4.9.0)\n",
            "Requirement already satisfied: attrs>=22.2.0 in /usr/local/lib/python3.11/dist-packages (from jsonschema>=4.18.0->jupyterlab-server<3,>=2.27.1->jupyterlab->pycofbuilder) (25.3.0)\n",
            "Requirement already satisfied: jsonschema-specifications>=2023.03.6 in /usr/local/lib/python3.11/dist-packages (from jsonschema>=4.18.0->jupyterlab-server<3,>=2.27.1->jupyterlab->pycofbuilder) (2024.10.1)\n",
            "Requirement already satisfied: referencing>=0.28.4 in /usr/local/lib/python3.11/dist-packages (from jsonschema>=4.18.0->jupyterlab-server<3,>=2.27.1->jupyterlab->pycofbuilder) (0.36.2)\n",
            "Requirement already satisfied: rpds-py>=0.7.1 in /usr/local/lib/python3.11/dist-packages (from jsonschema>=4.18.0->jupyterlab-server<3,>=2.27.1->jupyterlab->pycofbuilder) (0.24.0)\n",
            "Requirement already satisfied: entrypoints in /usr/local/lib/python3.11/dist-packages (from jupyter-client>=6.1.12->ipykernel->jupyter->pycofbuilder) (0.4)\n",
            "Requirement already satisfied: python-json-logger>=2.0.4 in /usr/local/lib/python3.11/dist-packages (from jupyter-events>=0.11.0->jupyter-server<3,>=2.4.0->jupyterlab->pycofbuilder) (3.3.0)\n",
            "Requirement already satisfied: pyyaml>=5.3 in /usr/local/lib/python3.11/dist-packages (from jupyter-events>=0.11.0->jupyter-server<3,>=2.4.0->jupyterlab->pycofbuilder) (6.0.2)\n",
            "Requirement already satisfied: rfc3339-validator in /usr/local/lib/python3.11/dist-packages (from jupyter-events>=0.11.0->jupyter-server<3,>=2.4.0->jupyterlab->pycofbuilder) (0.1.4)\n",
            "Requirement already satisfied: rfc3986-validator>=0.1.1 in /usr/local/lib/python3.11/dist-packages (from jupyter-events>=0.11.0->jupyter-server<3,>=2.4.0->jupyterlab->pycofbuilder) (0.1.1)\n",
            "Requirement already satisfied: fastjsonschema>=2.15 in /usr/local/lib/python3.11/dist-packages (from nbformat>=5.3.0->jupyter-server<3,>=2.4.0->jupyterlab->pycofbuilder) (2.21.1)\n",
            "Requirement already satisfied: wcwidth in /usr/local/lib/python3.11/dist-packages (from prompt-toolkit!=3.0.0,!=3.0.1,<3.1.0,>=2.0.0->jupyter-console->jupyter->pycofbuilder) (0.2.13)\n",
            "Requirement already satisfied: ptyprocess in /usr/local/lib/python3.11/dist-packages (from terminado>=0.8.3->jupyter-server<3,>=2.4.0->jupyterlab->pycofbuilder) (0.7.0)\n",
            "Requirement already satisfied: soupsieve>1.2 in /usr/local/lib/python3.11/dist-packages (from beautifulsoup4->nbconvert->jupyter->pycofbuilder) (2.6)\n",
            "Requirement already satisfied: parso<0.9.0,>=0.8.4 in /usr/local/lib/python3.11/dist-packages (from jedi>=0.16->ipython>=7.23.1->ipykernel->jupyter->pycofbuilder) (0.8.4)\n",
            "Requirement already satisfied: fqdn in /usr/local/lib/python3.11/dist-packages (from jsonschema[format-nongpl]>=4.18.0->jupyter-events>=0.11.0->jupyter-server<3,>=2.4.0->jupyterlab->pycofbuilder) (1.5.1)\n",
            "Requirement already satisfied: isoduration in /usr/local/lib/python3.11/dist-packages (from jsonschema[format-nongpl]>=4.18.0->jupyter-events>=0.11.0->jupyter-server<3,>=2.4.0->jupyterlab->pycofbuilder) (20.11.0)\n",
            "Requirement already satisfied: jsonpointer>1.13 in /usr/local/lib/python3.11/dist-packages (from jsonschema[format-nongpl]>=4.18.0->jupyter-events>=0.11.0->jupyter-server<3,>=2.4.0->jupyterlab->pycofbuilder) (3.0.0)\n",
            "Requirement already satisfied: uri-template in /usr/local/lib/python3.11/dist-packages (from jsonschema[format-nongpl]>=4.18.0->jupyter-events>=0.11.0->jupyter-server<3,>=2.4.0->jupyterlab->pycofbuilder) (1.3.0)\n",
            "Requirement already satisfied: webcolors>=24.6.0 in /usr/local/lib/python3.11/dist-packages (from jsonschema[format-nongpl]>=4.18.0->jupyter-events>=0.11.0->jupyter-server<3,>=2.4.0->jupyterlab->pycofbuilder) (24.11.1)\n",
            "Requirement already satisfied: cffi>=1.0.1 in /usr/local/lib/python3.11/dist-packages (from argon2-cffi-bindings->argon2-cffi>=21.1->jupyter-server<3,>=2.4.0->jupyterlab->pycofbuilder) (1.17.1)\n",
            "Requirement already satisfied: pycparser in /usr/local/lib/python3.11/dist-packages (from cffi>=1.0.1->argon2-cffi-bindings->argon2-cffi>=21.1->jupyter-server<3,>=2.4.0->jupyterlab->pycofbuilder) (2.22)\n",
            "Requirement already satisfied: arrow>=0.15.0 in /usr/local/lib/python3.11/dist-packages (from isoduration->jsonschema[format-nongpl]>=4.18.0->jupyter-events>=0.11.0->jupyter-server<3,>=2.4.0->jupyterlab->pycofbuilder) (1.3.0)\n",
            "Requirement already satisfied: types-python-dateutil>=2.8.10 in /usr/local/lib/python3.11/dist-packages (from arrow>=0.15.0->isoduration->jsonschema[format-nongpl]>=4.18.0->jupyter-events>=0.11.0->jupyter-server<3,>=2.4.0->jupyterlab->pycofbuilder) (2.9.0.20241206)\n",
            "Running pyCOFBuilder version: 0.0.9.2\n"
          ]
        }
      ],
      "source": [
        "# install the pycofbuilder package using pip\n",
        "! pip install simplejson pymatgen gemmi ase pycofbuilder\n",
        "\n",
        "import os\n",
        "import pycofbuilder as pcb\n",
        "\n",
        "print(\"Running pyCOFBuilder version:\", pcb.__version__)"
      ]
    },
    {
      "cell_type": "code",
      "source": [
        "cof = pcb.Framework('T3_BENZ_NH2-L2_BENZ_CHO_OH-HCB_A-AA')"
      ],
      "metadata": {
        "colab": {
          "base_uri": "https://localhost:8080/"
        },
        "id": "Gq62kz4eW1nn",
        "outputId": "3af08587-6c99-4100-e4ab-861aa5d8c6e6"
      },
      "execution_count": 9,
      "outputs": [
        {
          "output_type": "stream",
          "name": "stderr",
          "text": [
            "T3_BENZ_NH2_H-L2_BENZ_CHO_OH_H-HCB_A-AA                       hexagonal   P    P6/m # 175    12 sym. op.\n"
          ]
        }
      ]
    },
    {
      "cell_type": "code",
      "source": [
        "cof.save(fmt='cif')"
      ],
      "metadata": {
        "id": "kcPy--iOW9Y0"
      },
      "execution_count": 10,
      "outputs": []
    },
    {
      "cell_type": "markdown",
      "source": [
        "### Creating COFs from custom building blocks\n",
        "\n",
        "It is possible both to combine a custom building blocks with an existent one to create specific COF structures or to use two custom building blocks.\n",
        "\n",
        "The steps are the following:\n",
        "\n",
        "- Create the structure of the desired building block containing the connection points marked as `Q`. Optionally, you can also add `RX` groups to you BB to add functional groups.\n",
        "\n",
        "- Read it to obtain a `BuildingBlock` object.\n",
        "\n",
        "- Chose a suitable network and create the desired strucure.\n",
        "\n",
        "As an example, lets create the COF RIO-47 from our paper\n",
        "\n",
        "> FREITAS, Sunny KS, OLIVEIRA, Felipe L., MERLINI, Claudia, et al. Dye-based covalent organic networks. Journal of Physics: Materials, 2020, vol. 3, no 2, p. 025011.\n",
        "\n",
        "This structure is created from the imine condensation of triphormylphloroglucinol (`T3_BENZ_CHO_OH`) and phenosafranin."
      ],
      "metadata": {
        "id": "TnJXt_4bhcSj"
      }
    },
    {
      "cell_type": "code",
      "source": [
        "PSAF_gjf = \"\"\"# hf/3-21g\n",
        "\n",
        "Title Card Required\n",
        "\n",
        "0 1\n",
        " C                 -6.16740438   -1.81989570   -0.01291600\n",
        " C                 -4.80278138   -1.81989570   -0.01291600\n",
        " C                 -4.06989038   -0.58867470   -0.01291600\n",
        " C                 -4.79388738    0.64307230   -0.01843400\n",
        " C                 -6.22612738    0.60158130   -0.01973400\n",
        " C                 -6.88991038   -0.59071170   -0.01636300\n",
        " C                 -2.69456938    1.87712330   -0.01453000\n",
        " C                 -1.97060038    0.64542030   -0.00711000\n",
        " C                 -0.53841838    0.68704430    0.00000000\n",
        " H                  0.00745162   -0.26848270    0.00660100\n",
        " C                  0.12531862    1.87939930    0.00104200\n",
        " C                 -0.59716438    3.10851430   -0.00713000\n",
        " C                 -1.96180738    3.10836930   -0.01449700\n",
        " H                 -4.23345538   -2.76162970   -0.00981000\n",
        " H                 -6.77194038    1.55712730   -0.02433800\n",
        " H                 -7.98930838   -0.62687670   -0.01779400\n",
        " H                 -0.03108438    4.05169130   -0.00603500\n",
        " H                 -2.53135038    4.04998630   -0.02076900\n",
        " X                 -7.07794753   -3.33772185   -0.00904773\n",
        " X                  1.89434776    1.93717161    0.01095392\n",
        " N                 -4.09351038    1.85423930   -0.02015500\n",
        " N                 -2.67098938   -0.56578570   -0.00802000\n",
        " C                 -1.92634194   -1.83321102   -0.00225325\n",
        " C                 -2.30569014   -2.86898284   -0.85650329\n",
        " C                 -0.84048284   -2.00031769    0.85712648\n",
        " C                 -1.59969910   -4.07179876   -0.85082661\n",
        " H                 -3.16228175   -2.73720244   -1.53335373\n",
        " C                 -0.13356069   -3.20308323    0.86222567\n",
        " H                 -0.54125111   -1.18400730    1.53034765\n",
        " C                 -0.51305371   -4.23882140    0.00854630\n",
        " H                 -1.89903489   -4.88847665   -1.52368012\n",
        " H                  0.72280381   -3.33440532    1.53962407\n",
        " H                  0.04347932   -5.18726708    0.01280321\n",
        " Cl                -3.42716036   -4.50814402   -0.13846518\"\"\"\n",
        "\n",
        "with open('PSAF.gjf', 'w') as f:\n",
        "   f.write(PSAF_gjf)"
      ],
      "metadata": {
        "id": "DbvlEZAmNwW0"
      },
      "execution_count": 11,
      "outputs": []
    },
    {
      "cell_type": "code",
      "source": [
        "bb_t3 = pcb.BuildingBlock('T3_BENZ_CHO_OH')\n",
        "\n",
        "bb_l2 = pcb.BuildingBlock()\n",
        "bb_l2.from_file('.', 'PSAF.gjf')\n"
      ],
      "metadata": {
        "id": "o1w5YbGu0EhD"
      },
      "execution_count": 12,
      "outputs": []
    },
    {
      "cell_type": "code",
      "source": [
        "cof = pcb.Framework()\n",
        "cof.from_building_blocks(bb_t3, bb_l2, 'HCB_A', 'AA')\n",
        "cof.save(fmt='cif')"
      ],
      "metadata": {
        "id": "rImmJKHdicGq",
        "outputId": "a00259f8-1adc-433a-c79d-c6617efdbf78",
        "colab": {
          "base_uri": "https://localhost:8080/"
        }
      },
      "execution_count": 13,
      "outputs": [
        {
          "output_type": "stream",
          "name": "stderr",
          "text": [
            "T3_BENZ_CHO_OH-PSAF-HCB_A-AA                                  hexagonal   P     P3  # 143    3  sym. op.\n"
          ]
        }
      ]
    },
    {
      "cell_type": "code",
      "source": [],
      "metadata": {
        "id": "qGUxqUiqigli"
      },
      "execution_count": null,
      "outputs": []
    }
  ]
}