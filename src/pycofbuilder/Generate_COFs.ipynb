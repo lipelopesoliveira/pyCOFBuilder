{
 "cells": [
  {
   "cell_type": "code",
   "execution_count": 1,
   "metadata": {},
   "outputs": [],
   "source": [
    "import os\n",
    "\n",
    "# importing module\n",
    "import sys\n",
    " \n",
    "# appending a path\n",
    "sys.path.append('C:\\\\Users\\\\lipel\\\\OneDrive\\\\Documentos\\\\GitHub\\\\pyCOFBuilder\\\\src')\n",
    "\n",
    "import pycofbuilder as COF\n"
   ]
  },
  {
   "cell_type": "markdown",
   "metadata": {},
   "source": [
    "# List of COFs\n",
    "\n",
    "group_1 = [\n",
    "    'C3_TPBZ_NH2-C2_TIEN_CHO-HCB_A-AA', \n",
    "    'C3_TPBZ_NH2-C2_TIEN_CHO-HCB_A-AB1',\n",
    "    'C3_TPBZ_NH2-C2_TIEN_CHO-HCB_A-AB2'\n",
    "]\n",
    "\n",
    "S1 = COF.Reticulum()\n",
    "S1.from_name(group_1[0])\n",
    "S1.save(fmt='cif', supercell=[1,1,2])\n",
    "S1.save(fmt='json', supercell=[1,1,2])\n",
    "\n",
    "S2 = COF.Reticulum()\n",
    "S2.from_name(group_1[1])\n",
    "S2.save(fmt='cif', supercell=[1,1,1])\n",
    "S2.save(fmt='json', supercell=[1,1,1])\n",
    "\n",
    "S3 = COF.Reticulum()\n",
    "S3.from_name(group_1[2])\n",
    "S3.save(fmt='cif', supercell=[1,1,1])\n",
    "S3.save(fmt='json', supercell=[1,1,1])"
   ]
  },
  {
   "attachments": {},
   "cell_type": "markdown",
   "metadata": {},
   "source": [
    "# Estrutura com problemas\n",
    "\n",
    "group_2 = [\n",
    "    'C3_TRZN_Br-C2_PYEN_Br-HCB_A-AA',  \n",
    "    'C3_TRZN_Br-C2_PYEN_Br-HCB_A-AB1',\n",
    "    'C3_TRZN_Br-C2_PYEN_Br-HCB_A-AB2'\n",
    "]\n",
    "\n",
    "S1 = COF.Reticulum()\n",
    "S1.from_name(group_2[0])\n",
    "S1.save(fmt='cif', supercell=[1,2,1])\n",
    "S1.save(fmt='json', supercell=[1,2,1])\n",
    "\n",
    "S2 = COF.Reticulum()\n",
    "S2.from_name(group_2[1])\n",
    "S2.save(fmt='cif', supercell=[1,1,1])\n",
    "S2.save(fmt='json', supercell=[1,1,1])\n",
    "\n",
    "S3 = COF.Reticulum()\n",
    "S3.from_name(group_2[2])\n",
    "S3.save(fmt='cif', supercell=[1,1,1])\n",
    "S3.save(fmt='json', supercell=[1,1,1])"
   ]
  },
  {
   "cell_type": "code",
   "execution_count": null,
   "metadata": {},
   "outputs": [],
   "source": [
    "# Estrutura com problemas\n",
    "\n",
    "group_3 = [\n",
    "    'C3_TPTZ_NH2-C2_TIEN_CHO-HCB_A-AA',  \n",
    "    'C3_TPTZ_NH2-C2_TIEN_CHO-HCB_A-AB1',\n",
    "    'C3_TPTZ_NH2-C2_TIEN_CHO-HCB_A-AB2'\n",
    "]\n",
    "\n",
    "\n",
    "S1 = COF.Reticulum()\n",
    "S1.from_name(group_3[0])\n",
    "S1.save(fmt='cif', supercell=[1,1,2])\n",
    "S1.save(fmt='json', supercell=[1,1,2])\n",
    "\n",
    "S2 = COF.Reticulum()\n",
    "S2.from_name(group_3[1])\n",
    "S2.save(fmt='cif', supercell=[1,1,1])\n",
    "S2.save(fmt='json', supercell=[1,1,1])\n",
    "\n",
    "S3 = COF.Reticulum()\n",
    "S3.from_name(group_3[2])\n",
    "S3.save(fmt='cif', supercell=[1,1,1])\n",
    "S3.save(fmt='json', supercell=[1,1,1])"
   ]
  },
  {
   "cell_type": "code",
   "execution_count": 2,
   "metadata": {},
   "outputs": [
    {
     "name": "stdout",
     "output_type": "stream",
     "text": [
      "C3_TRZN_Br-C2_BENZ_Br_H_H-HCB_A-AA                            monoclinic  P    P2/m # 10     4  sym. op.\n"
     ]
    }
   ],
   "source": [
    "S1 = COF.Reticulum()\n",
    "S1.from_name('C3_TRZN_Br-C2_BENZ_Br-HCB_A-AA')\n",
    "S1.save(fmt='cif', supercell=[1,1,1])"
   ]
  },
  {
   "cell_type": "code",
   "execution_count": null,
   "metadata": {},
   "outputs": [],
   "source": []
  }
 ],
 "metadata": {
  "kernelspec": {
   "display_name": "pycofbuilder",
   "language": "python",
   "name": "python3"
  },
  "language_info": {
   "codemirror_mode": {
    "name": "ipython",
    "version": 3
   },
   "file_extension": ".py",
   "mimetype": "text/x-python",
   "name": "python",
   "nbconvert_exporter": "python",
   "pygments_lexer": "ipython3",
   "version": "3.11.0"
  },
  "orig_nbformat": 4
 },
 "nbformat": 4,
 "nbformat_minor": 2
}
